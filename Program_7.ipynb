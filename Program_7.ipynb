{
 "cells": [
  {
   "cell_type": "code",
   "execution_count": null,
   "metadata": {
    "collapsed": true
   },
   "outputs": [],
   "source": []
  },
  {
   "cell_type": "code",
   "execution_count": null,
   "outputs": [],
   "source": [
    "# Create a menu drive Python program with dictionary for words and their meanings.\n",
    "# Write functions to add a new entry (word: meaning), search for a particular word and retrieve meaning,\n",
    "# given meaning find words with same meaning, remove an entry, display all words sorted alphabetically.\n",
    "\n",
    "word_dict = {}\n",
    "\n",
    "\n",
    "def create_dict():\n",
    "    global word_dict\n",
    "    word_dict = {}\n",
    "    ch = \"y\"\n",
    "    while (ch == \"y\") or (ch == \"Y\"):\n",
    "        print(\"\\nEnter word:\", end=\"\")\n",
    "        word = input()\n",
    "        print(\"\\nEnter meaning:\", end=\"\")\n",
    "        meaning = input()\n",
    "        word_dict[word] = meaning\n",
    "        print(\"\\nDo you want to continue adding words(y or n):\", end=\"\")\n",
    "        ch = input()\n",
    "\n",
    "\n",
    "def add_word():\n",
    "    global word_dict\n",
    "    print(\"\\nEnter word:\", end=\"\")\n",
    "    word = input()\n",
    "    print(\"\\nEnter meaning:\", end=\"\")\n",
    "    meaning = input()\n",
    "    word_dict[word] = meaning\n",
    "\n",
    "\n",
    "def find_meaning(w):\n",
    "    return word_dict[w]\n",
    "\n",
    "\n",
    "def find_word_same_meaning(mng):\n",
    "    words = []\n",
    "    for w, m in word_dict.items():\n",
    "        if mng == m:\n",
    "            words.append(w)\n",
    "    return words\n",
    "\n",
    "\n",
    "def display_sorted():\n",
    "    for w, m in word_dict.items():\n",
    "        print(\"%s ==> %s\" % (w, m))\n",
    "    print(\"Sorted list of words : \")\n",
    "    print(sorted(word_dict.keys()))\n",
    "\n",
    "\n",
    "def main():\n",
    "    ch = \"y\"\n",
    "    while ch == \"Y\" or ch == \"y\":\n",
    "        print(\"1: Create new dictionary\")\n",
    "        print(\"2: Add new word\")\n",
    "        print(\"3: Find meaning\")\n",
    "        print(\"4: Find word with same meaning\")\n",
    "        print(\"5: Display sorted list of words\")\n",
    "        print(\"6: Quit\")\n",
    "        print(\"Enter Choice: \", end=\"\")\n",
    "        option = int(input())\n",
    "        if option == 1:\n",
    "            create_dict()\n",
    "        elif option == 2:\n",
    "            add_word()\n",
    "        elif option == 3:\n",
    "            print(\"Enter word:\", end=\"\")\n",
    "            word = input()\n",
    "            print(\"Meaning:%s\" % (find_meaning(word)))\n",
    "        elif option == 4:\n",
    "            print(\"Enter meaning:\", end=\"\")\n",
    "            meaning = input()\n",
    "            print(\"Words with same meaning:\", end=\"\")\n",
    "            print(find_word_same_meaning(meaning))\n",
    "        elif option == 5:\n",
    "            display_sorted()\n",
    "        elif option == 6:\n",
    "            quit()\n",
    "\n",
    "        print(\"\\nDo you want to continue(y or n)?\", end=\"\")\n",
    "        ch = input()\n",
    "\n",
    "\n",
    "if __name__ == \"__main__\":\n",
    "    main()\n"
   ],
   "metadata": {
    "collapsed": false,
    "pycharm": {
     "name": "#%%\n"
    }
   }
  }
 ],
 "metadata": {
  "language_info": {
   "codemirror_mode": {
    "name": "ipython",
    "version": 2
   },
   "file_extension": ".py",
   "mimetype": "text/x-python",
   "name": "python",
   "nbconvert_exporter": "python",
   "pygments_lexer": "ipython2",
   "version": "2.7.6"
  },
  "kernelspec": {
   "name": "python3",
   "language": "python",
   "display_name": "Python 3"
  },
  "pycharm": {
   "stem_cell": {
    "cell_type": "raw",
    "source": [],
    "metadata": {
     "collapsed": false
    }
   }
  }
 },
 "nbformat": 4,
 "nbformat_minor": 0
}