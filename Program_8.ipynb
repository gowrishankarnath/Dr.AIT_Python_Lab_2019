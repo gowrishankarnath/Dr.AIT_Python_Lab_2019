{
 "cells": [
  {
   "cell_type": "code",
   "execution_count": null,
   "metadata": {
    "collapsed": true
   },
   "outputs": [],
   "source": [
    "# Using Regular Expressions, develop a Python program to\n",
    "# •\tIdentify a word with a sequence of one upper case letter followed by lower case letters.\n",
    "# •\tFind all the patterns of “1(0+)1” in a given string.\n",
    "# •\tMatch a word containing ‘z’ followed by one or more o’s.\n",
    "\n",
    "import re\n",
    "\n",
    "\n",
    "# Function to Find all the patterns of “1(0+)1” in a given string\n",
    "def check_uc_lc_pattern(user_input):\n",
    "    # regex\n",
    "    pattern = '[A-Z]+[a-z]+$'\n",
    "\n",
    "    # searching pattern\n",
    "    if re.search(pattern, user_input):\n",
    "        print(\"String consists of one Upper case letter followed by lower case letters\")\n",
    "    else:\n",
    "        print(\"String fails the pattern\")\n",
    "\n",
    "\n",
    "def count_pattern(user_input):\n",
    "    # search regex '10+1' in original string search() function return first occurrence\n",
    "    # of regex '10+1' otherwise None '10+1' means sub-string starting and ending with 1\n",
    "    # and at least 1 or more zeros in between\n",
    "    count = 0\n",
    "    substr = re.search('10+1', user_input)\n",
    "\n",
    "    # search for regex in original string until we are done with complete string\n",
    "    while substr != None:\n",
    "        # if we find any occurrence then increase count by 1\n",
    "        count = count + 1\n",
    "\n",
    "        # find next occurrence just after previous sub-string for first occurrence 101, substr.start()=1\n",
    "        # substr.end()=4\n",
    "        user_input = user_input[(substr.end() - 1):]\n",
    "        substr = re.search('10+1', user_input)\n",
    "    print(count)\n",
    "\n",
    "\n",
    "def z_followed_by_o(user_input):\n",
    "    # Regex \\w * zo+\\w * will match text that contains 'z', followed\n",
    "    # by one or more 'o'\n",
    "    regex = re.compile(\"zo+\\w*\")\n",
    "\n",
    "    # The findall() method returns all matching strings of the regex pattern\n",
    "    match_object = regex.findall(user_input)\n",
    "\n",
    "    # If length of match_object is not equal to zero then it contains\n",
    "    # matched string\n",
    "    if len(match_object) != 0:\n",
    "\n",
    "        # looping through the list\n",
    "        for word in match_object:\n",
    "            print(word)\n",
    "    else:\n",
    "        print(\"No match\")\n",
    "\n",
    "\n",
    "def menu():\n",
    "    print(\"1 --> Identify a word with a sequence of one upper case letter followed by lower case letters\")\n",
    "    print(\"2 --> Find all the patterns of “1(0+)1” in a given string\")\n",
    "    print(\"3 --> Match a word containing ‘g’ followed by one or more e’s\")\n",
    "    print(\"4 --> Exit the program\")\n",
    "    choice = int(input(\"Enter a number to perform the operation\"))\n",
    "    if choice == 1:\n",
    "        user_input = input(\"Enter a string with a sequence of Upper and Lower case letter\")\n",
    "        check_uc_lc_pattern(user_input)\n",
    "    elif choice == 2:\n",
    "        user_input = input(\"Enter a string in the form of 1(0+)1 pattern \")\n",
    "        count_pattern(user_input)\n",
    "    elif choice == 3:\n",
    "        user_input = input(\"Enter a string\")\n",
    "        z_followed_by_o(user_input)\n",
    "    else:\n",
    "        exit()\n",
    "\n",
    "\n",
    "# Driver program\n",
    "if __name__ == \"__main__\":\n",
    "    menu()\n"
   ]
  }
 ],
 "metadata": {
  "language_info": {
   "codemirror_mode": {
    "name": "ipython",
    "version": 2
   },
   "file_extension": ".py",
   "mimetype": "text/x-python",
   "name": "python",
   "nbconvert_exporter": "python",
   "pygments_lexer": "ipython2",
   "version": "2.7.6"
  },
  "kernelspec": {
   "name": "python3",
   "language": "python",
   "display_name": "Python 3"
  },
  "pycharm": {
   "stem_cell": {
    "cell_type": "raw",
    "source": [],
    "metadata": {
     "collapsed": false
    }
   }
  }
 },
 "nbformat": 4,
 "nbformat_minor": 0
}