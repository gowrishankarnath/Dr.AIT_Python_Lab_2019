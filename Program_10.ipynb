{
 "cells": [
  {
   "cell_type": "code",
   "execution_count": null,
   "metadata": {
    "collapsed": true
   },
   "outputs": [],
   "source": [
    "# Design a Python program to implement the Hangman Game.\n",
    "\n",
    "\n",
    "def play_hangman():\n",
    "    name = input(\"What is your name? \")\n",
    "    print(f\"Hello {name} Time to play hangman!\")\n",
    "    print(\"Start guessing...\")\n",
    "    # here we set the secret\n",
    "    word = \"apple\"\n",
    "    # creates an variable with an empty value\n",
    "    guesses = ''\n",
    "    # determine the number of turns\n",
    "    turns = len(word) + 2\n",
    "    # Create a while loop\n",
    "    # check if the turns are more than zero\n",
    "    while turns > 0:\n",
    "        # make a counter that starts with zero\n",
    "        failed = 0\n",
    "        # for every character in secret_word\n",
    "        for char in word:\n",
    "            # see if the character is in the players guess\n",
    "            if char in guesses:\n",
    "                # print then out the character\n",
    "                print(char,)\n",
    "            else:\n",
    "                # if not found, print a dash\n",
    "                print(\"_\",)\n",
    "                # and increase the failed counter with one\n",
    "                failed += 1\n",
    "\n",
    "        # if failed is equal to zero\n",
    "        # print You Won\n",
    "        if failed == 0:\n",
    "            print(\"You won\")\n",
    "            # exit the script\n",
    "            break\n",
    "        # ask the user go guess a character\n",
    "        guess = input(\"guess a character:\")\n",
    "        # set the players guess to guesses\n",
    "        guesses += guess\n",
    "        # if the guess is not found in the secret word\n",
    "        if guess not in word:\n",
    "            # turns counter decreases with 1\n",
    "            turns -= 1\n",
    "        # print wrong\n",
    "        print(\"Wrong\")\n",
    "\n",
    "        # how many turns are left\n",
    "        print(\"You have\", + turns, 'more guesses')\n",
    "\n",
    "        # if the turns are equal to zero\n",
    "        if turns == 0:\n",
    "            # print \"You Loose\"\n",
    "            print(\"You Loose\")\n",
    "\n",
    "\n",
    "if __name__ == '__main__':\n",
    "    play_hangman()\n"
   ]
  }
 ],
 "metadata": {
  "language_info": {
   "codemirror_mode": {
    "name": "ipython",
    "version": 2
   },
   "file_extension": ".py",
   "mimetype": "text/x-python",
   "name": "python",
   "nbconvert_exporter": "python",
   "pygments_lexer": "ipython2",
   "version": "2.7.6"
  },
  "kernelspec": {
   "name": "python3",
   "language": "python",
   "display_name": "Python 3"
  },
  "pycharm": {
   "stem_cell": {
    "cell_type": "raw",
    "source": [],
    "metadata": {
     "collapsed": false
    }
   }
  }
 },
 "nbformat": 4,
 "nbformat_minor": 0
}