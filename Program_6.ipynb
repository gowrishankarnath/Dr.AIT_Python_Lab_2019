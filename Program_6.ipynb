{
 "cells": [
  {
   "cell_type": "code",
   "execution_count": null,
   "metadata": {
    "collapsed": true
   },
   "outputs": [],
   "source": [
    "# Perform the following file operations using Python\n",
    "# a) Traverse a path and display all the files and subdirectories\n",
    "# in each level till the deepest level for a given path.\n",
    "# Also, display the total number of files and the subdirectories.\n",
    "# b) Read a file contents and copy only the contents at odd lines into a new file\n",
    "\n",
    "import os\n",
    "\n",
    "\n",
    "def display_files():\n",
    "    # Set the directory to start from\n",
    "    print(\"Enter path to traverse :\")\n",
    "    root_dir = input()\n",
    "    if os.path.exists(root_dir):\n",
    "        dir_count = 0\n",
    "        file_count = 0\n",
    "        for dir_name, sub_dir_list, file_list in os.walk(root_dir):\n",
    "            print(f'Found directory: {dir_name}')\n",
    "            # check to ignore starting directory while taking directory count\n",
    "            # normpath returns the normalized path eliminating double slashes etc.\n",
    "            if os.path.normpath(root_dir) != os.path.normpath(dir_name):\n",
    "                dir_count += 1\n",
    "            for each_file_name in file_list:\n",
    "                file_count += 1\n",
    "                print(f'File name(s) {each_file_name}')\n",
    "        print(f\"Number of subdirectories are {dir_count}\")\n",
    "        print(f\"Number of files are {file_count}\")\n",
    "        display_menu()\n",
    "    else:\n",
    "        print(\"Entered path doesn't exist\")\n",
    "        display_menu()\n",
    "\n",
    "\n",
    "def copy_contents_to_file():\n",
    "    source_file = input(\"Enter the Source file name\")\n",
    "    destination_file = input(\"Enter the Destination file name\")\n",
    "    try:\n",
    "        with open(source_file) as in_file, open(destination_file, 'w') as out_file:\n",
    "            list_of_lines = in_file.readlines()\n",
    "            for i in range(0, len(list_of_lines)):\n",
    "                if i % 2 != 0:\n",
    "                    out_file.write(list_of_lines[i])\n",
    "    except IOError:\n",
    "        print(\"Error in File names\")\n",
    "\n",
    "    display_menu()\n",
    "\n",
    "\n",
    "def display_menu():\n",
    "    choice = int(input(\"Please enter your choice\"))\n",
    "    print(\"Press 1 --> Display files and directories for a given path and their count\")\n",
    "    print(\"Press 2 --> Copy the contents present at odd lines to another file\")\n",
    "    print(\"Press 3 --> Exit the program\")\n",
    "    if choice == 1:\n",
    "        display_files()\n",
    "    elif choice == 2:\n",
    "        copy_contents_to_file()\n",
    "    else:\n",
    "        exit()\n",
    "\n",
    "\n",
    "if __name__ == '__main__':\n",
    "    display_menu()"
   ]
  }
 ],
 "metadata": {
  "language_info": {
   "codemirror_mode": {
    "name": "ipython",
    "version": 2
   },
   "file_extension": ".py",
   "mimetype": "text/x-python",
   "name": "python",
   "nbconvert_exporter": "python",
   "pygments_lexer": "ipython2",
   "version": "2.7.6"
  },
  "kernelspec": {
   "name": "python3",
   "language": "python",
   "display_name": "Python 3"
  },
  "pycharm": {
   "stem_cell": {
    "cell_type": "raw",
    "source": [],
    "metadata": {
     "collapsed": false
    }
   }
  }
 },
 "nbformat": 4,
 "nbformat_minor": 0
}