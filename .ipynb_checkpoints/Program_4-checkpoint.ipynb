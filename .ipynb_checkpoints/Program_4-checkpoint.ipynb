{
 "cells": [
  {
   "cell_type": "markdown",
   "metadata": {},
   "source": [
    "## ```Q4.``` ##\n",
    "\n",
    "## ```Similar to Binary Search, Jump or block search is an algorithm only for ordered (sorted) lists. The major idea behind this algorithm is to make less comparisons by skipping a definite amount of elements in between the ones getting compared leading to less time required for the searching process. ``` ##"
   ]
  },
  {
   "cell_type": "code",
   "execution_count": null,
   "metadata": {
    "collapsed": true
   },
   "outputs": [],
   "source": [
    "# The celebrity problem is the problem of finding the celebrity among n people.\n",
    "# A celebrity is someone who does not know anyone (including themselves) but is known by everyone.\n",
    "# Write a Python program to solve the celebrity problem.\n",
    "\n",
    "\n",
    "def eliminate_non_celebrities(matrix):\n",
    "    \"\"\"Take an n x n matrix that has m[i][j] = True iff i knows j and return\n",
    "    person who is maybe a celebrity.\"\"\"\n",
    "    possible_celeb = 0\n",
    "    n = len(matrix)\n",
    "    for p in range(1, n):\n",
    "        if (matrix[possible_celeb][p]\n",
    "                or not matrix[p][possible_celeb]):\n",
    "            possible_celeb = p\n",
    "    return possible_celeb\n",
    "\n",
    "\n",
    "def check_if_celebrity(possible_celeb, matrix):\n",
    "    \"\"\"Take an n x n matrix that has m[i][j] = True iff i knows j and return\n",
    "    True if possible_celeb is a celebrity.\"\"\"\n",
    "    for i in range(n):\n",
    "        if matrix[possible_celeb][i] is True:\n",
    "            return False\n",
    "\n",
    "    for i in range(n):\n",
    "        if matrix[i][possible_celeb] is False:\n",
    "            if i != possible_celeb:\n",
    "                return False\n",
    "\n",
    "    return True\n",
    "\n",
    "\n",
    "n = int(input('Number of people: '))\n",
    "\n",
    "# create n x n matrix initialized to False that has m[i][j] = True iff i knows j\n",
    "m = [[False] * n for i in range(n)]\n",
    "\n",
    "for i in range(n):\n",
    "    people = input('Enter list of people known to {}: '.format(i)).split()\n",
    "    for p in people:\n",
    "        p = int(p)\n",
    "        m[i][p] = True\n",
    "\n",
    "possible_celeb = eliminate_non_celebrities(m)\n",
    "\n",
    "if check_if_celebrity(possible_celeb, m):\n",
    "    print('{} is the celebrity.'.format(possible_celeb))\n",
    "else:\n",
    "    print('There is no celebrity.')"
   ]
  }
 ],
 "metadata": {
  "kernelspec": {
   "display_name": "Python 3",
   "language": "python",
   "name": "python3"
  },
  "language_info": {
   "codemirror_mode": {
    "name": "ipython",
    "version": 3
   },
   "file_extension": ".py",
   "mimetype": "text/x-python",
   "name": "python",
   "nbconvert_exporter": "python",
   "pygments_lexer": "ipython3",
   "version": "3.7.3"
  },
  "pycharm": {
   "stem_cell": {
    "cell_type": "raw",
    "metadata": {
     "collapsed": false
    },
    "source": []
   }
  }
 },
 "nbformat": 4,
 "nbformat_minor": 1
}
