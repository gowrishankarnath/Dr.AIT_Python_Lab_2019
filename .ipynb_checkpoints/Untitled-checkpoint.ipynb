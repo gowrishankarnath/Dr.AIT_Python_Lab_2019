{
 "cells": [
  {
   "cell_type": "code",
   "execution_count": 24,
   "metadata": {},
   "outputs": [
    {
     "name": "stdout",
     "output_type": "stream",
     "text": [
      "Enter a list of numbers separated by a space in ascending order: 1 2 3 4 5\n",
      "Enter the Key number to search: 5\n"
     ]
    },
    {
     "ename": "TypeError",
     "evalue": "list indices must be integers or slices, not float",
     "output_type": "error",
     "traceback": [
      "\u001b[1;31m---------------------------------------------------------------------------\u001b[0m",
      "\u001b[1;31mTypeError\u001b[0m                                 Traceback (most recent call last)",
      "\u001b[1;32m<ipython-input-24-49c6de76731a>\u001b[0m in \u001b[0;36m<module>\u001b[1;34m\u001b[0m\n\u001b[0;32m     43\u001b[0m \u001b[1;33m\u001b[0m\u001b[0m\n\u001b[0;32m     44\u001b[0m \u001b[1;32mif\u001b[0m \u001b[0m__name__\u001b[0m \u001b[1;33m==\u001b[0m \u001b[1;34m\"__main__\"\u001b[0m\u001b[1;33m:\u001b[0m\u001b[1;33m\u001b[0m\u001b[1;33m\u001b[0m\u001b[0m\n\u001b[1;32m---> 45\u001b[1;33m     \u001b[0muser_input\u001b[0m\u001b[1;33m(\u001b[0m\u001b[1;33m)\u001b[0m\u001b[1;33m\u001b[0m\u001b[1;33m\u001b[0m\u001b[0m\n\u001b[0m",
      "\u001b[1;32m<ipython-input-24-49c6de76731a>\u001b[0m in \u001b[0;36muser_input\u001b[1;34m()\u001b[0m\n\u001b[0;32m     35\u001b[0m     \u001b[0mkey\u001b[0m \u001b[1;33m=\u001b[0m \u001b[0minput\u001b[0m\u001b[1;33m(\u001b[0m\u001b[1;34m\"Enter the Key number to search: \"\u001b[0m\u001b[1;33m)\u001b[0m\u001b[1;33m\u001b[0m\u001b[1;33m\u001b[0m\u001b[0m\n\u001b[0;32m     36\u001b[0m \u001b[1;33m\u001b[0m\u001b[0m\n\u001b[1;32m---> 37\u001b[1;33m     \u001b[0mindex\u001b[0m \u001b[1;33m=\u001b[0m \u001b[0mjump_search\u001b[0m\u001b[1;33m(\u001b[0m\u001b[0mlist_of_numbers\u001b[0m\u001b[1;33m,\u001b[0m \u001b[0mkey\u001b[0m\u001b[1;33m)\u001b[0m\u001b[1;33m\u001b[0m\u001b[1;33m\u001b[0m\u001b[0m\n\u001b[0m\u001b[0;32m     38\u001b[0m     \u001b[1;32mif\u001b[0m \u001b[0mindex\u001b[0m \u001b[1;33m==\u001b[0m \u001b[1;33m-\u001b[0m\u001b[1;36m1\u001b[0m\u001b[1;33m:\u001b[0m\u001b[1;33m\u001b[0m\u001b[1;33m\u001b[0m\u001b[0m\n\u001b[0;32m     39\u001b[0m         \u001b[0mprint\u001b[0m\u001b[1;33m(\u001b[0m\u001b[1;34m\"Entered key is not present\"\u001b[0m\u001b[1;33m)\u001b[0m\u001b[1;33m\u001b[0m\u001b[1;33m\u001b[0m\u001b[0m\n",
      "\u001b[1;32m<ipython-input-24-49c6de76731a>\u001b[0m in \u001b[0;36mjump_search\u001b[1;34m(list_of_numbers, key)\u001b[0m\n\u001b[0;32m     15\u001b[0m \u001b[1;33m\u001b[0m\u001b[0m\n\u001b[0;32m     16\u001b[0m     \u001b[1;31m# Doing a linear search for x in block beginning with prev.\u001b[0m\u001b[1;33m\u001b[0m\u001b[1;33m\u001b[0m\u001b[1;33m\u001b[0m\u001b[0m\n\u001b[1;32m---> 17\u001b[1;33m     \u001b[1;32mwhile\u001b[0m \u001b[0mlist_of_numbers\u001b[0m\u001b[1;33m[\u001b[0m\u001b[0mprev\u001b[0m\u001b[1;33m]\u001b[0m \u001b[1;33m<\u001b[0m \u001b[0mkey\u001b[0m\u001b[1;33m:\u001b[0m\u001b[1;33m\u001b[0m\u001b[1;33m\u001b[0m\u001b[0m\n\u001b[0m\u001b[0;32m     18\u001b[0m         \u001b[0mprev\u001b[0m \u001b[1;33m+=\u001b[0m \u001b[1;36m1\u001b[0m\u001b[1;33m\u001b[0m\u001b[1;33m\u001b[0m\u001b[0m\n\u001b[0;32m     19\u001b[0m \u001b[1;33m\u001b[0m\u001b[0m\n",
      "\u001b[1;31mTypeError\u001b[0m: list indices must be integers or slices, not float"
     ]
    }
   ],
   "source": [
    "import math\n",
    "\n",
    "def jump_search(list_of_numbers, key): \n",
    "    list_length = len(list_of_numbers) \n",
    "    # Finding block size to be jumped \n",
    "    number_of_jumps = int(math.sqrt(list_length)) \n",
    "      \n",
    "    # Finding the block where element is present (if it is present) \n",
    "    prev = 0\n",
    "    while list_of_numbers[int(min(number_of_jumps, list_length)-1)] < key: \n",
    "        prev = number_of_jumps \n",
    "        number_of_jumps += int(math.sqrt(list_length)) \n",
    "        if prev >= list_length: \n",
    "            return -1\n",
    "      \n",
    "    # Doing a linear search for x in block beginning with prev. \n",
    "    while list_of_numbers[prev] < key: \n",
    "        prev += 1\n",
    "          \n",
    "        # If we reached next block or end of array, element is not present. \n",
    "        if prev == min(number_of_jumps, list_length): \n",
    "            return -1\n",
    "      \n",
    "    # If element is found \n",
    "    if list_of_numbers[prev] == key: \n",
    "        return prev \n",
    "      \n",
    "    return -1\n",
    "\n",
    "def user_input():\n",
    "    input_list = input(\n",
    "        \"Enter a list of numbers separated by a space in ascending order: \"\n",
    "    )\n",
    "    list_of_numbers = input_list.split()\n",
    "    key = input(\"Enter the Key number to search: \")\n",
    "\n",
    "    index = jump_search(list_of_numbers, key)\n",
    "    if index == -1:\n",
    "        print(\"Entered key is not present\")\n",
    "    else:\n",
    "        print(f\"Key number {key} is found in position {index + 1}\")\n",
    "\n",
    "\n",
    "if __name__ == \"__main__\":\n",
    "    user_input()\n"
   ]
  },
  {
   "cell_type": "code",
   "execution_count": 20,
   "metadata": {},
   "outputs": [
    {
     "data": {
      "text/plain": [
       "1"
      ]
     },
     "execution_count": 20,
     "metadata": {},
     "output_type": "execute_result"
    }
   ],
   "source": [
    "1"
   ]
  },
  {
   "cell_type": "code",
   "execution_count": null,
   "metadata": {},
   "outputs": [],
   "source": []
  }
 ],
 "metadata": {
  "kernelspec": {
   "display_name": "Python 3",
   "language": "python",
   "name": "python3"
  },
  "language_info": {
   "codemirror_mode": {
    "name": "ipython",
    "version": 3
   },
   "file_extension": ".py",
   "mimetype": "text/x-python",
   "name": "python",
   "nbconvert_exporter": "python",
   "pygments_lexer": "ipython3",
   "version": "3.7.3"
  }
 },
 "nbformat": 4,
 "nbformat_minor": 2
}
