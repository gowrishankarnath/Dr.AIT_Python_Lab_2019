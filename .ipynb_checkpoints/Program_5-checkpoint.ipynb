{
 "cells": [
  {
   "cell_type": "markdown",
   "metadata": {},
   "source": [
    "## ``Q5.``##\n",
    "\n",
    "## ```Write a Python program to construct a linked list. Prompt the user for input. Remove any duplicate numbers from the linked list.``` ##"
   ]
  },
  {
   "cell_type": "markdown",
   "metadata": {},
   "source": [
    "## -----------------------------------------------------------------------------------------------------------------------------"
   ]
  },
  {
   "cell_type": "markdown",
   "metadata": {},
   "source": [
    "## Problem Description ##  \n",
    "\n",
    "In this program, we need to remove the duplicate nodes from the given singly linked list.\n",
    "\n",
    "**Original List:**  \n",
    "\n",
    "<img src=\"images\\7.jpg\" alt=\"ll\" align=\"middle\" height = 250, width = 450>  \n",
    "\n",
    "**List after removing duplicate nodes:**    \n",
    "\n",
    "<img src=\"images\\8.jpg\" alt=\"ll\" align=\"middle\" height = 250, width = 450>  \n",
    "\n",
    "In the above list, node 2 is repeated thrice, and node 1 is repeated twice. Node current will point to head, and index will point to node next to current. Start traversing the list till a duplicate is found that is when current's data is equal to index's data. In the above example, the first duplicate will be found at position 4. Assign current to another node temp. Connect temp's next node with index's next node. Delete index which was pointing to duplicate node. This process will continue until all duplicates are removed."
   ]
  },
  {
   "cell_type": "markdown",
   "metadata": {},
   "source": [
    "## -----------------------------------------------------------------------------------------------------------------------------"
   ]
  },
  {
   "cell_type": "markdown",
   "metadata": {},
   "source": [
    "## Steps for removing duplicate number(s) from the linked list\n",
    "\n",
    "1. Create a class ```Node``` which has two data attributes: ```data``` and ```next```. The data attribute ```next``` points to the next node in the list.<br><br>     \n",
    "\n",
    "2. Create another class ```LinkedList``` which has two data attributes: ```head``` and ```tail.```<br><br>  \n",
    "\n",
    "3. The ```add_node()``` method will add a new node to the list:  \n",
    "    a. Create a new node.  \n",
    "    b. It first checks, whether the ```head``` is equal to null which means the list is empty.  \n",
    "    c. If the list is empty, both ```head``` and ```tail``` will point to a newly added node.  \n",
    "    d. If the list is not empty, the new node will be added to end of the list such that ```tail's``` next will point to a newly added node. This new node will become the new tail of the list.<br><br>  \n",
    "\n",
    "4. The ```remove_duplicate()``` method will remove duplicate nodes from the list.  \n",
    "    a. Define a new node ```current``` which will initially point to head.  \n",
    "    b. Node ```temp``` will point to ```current``` and ```index``` will always point to node next to current.  \n",
    "    c. Loop through the list till ```current``` points to null.  \n",
    "    d. Check whether current's data is equal to index's data that means ```index``` is duplicate of ```current.```  \n",
    "    e. Since index points to duplicate node so skip it by making node next to temp to will point to node next to index, i.e. ```temp.next = index.next.```<br><br>     \n",
    "\n",
    "5. The ```display()``` method will display the nodes present in the list:  \n",
    "    a. Define a node ```current``` which will initially point to the head of the list.  \n",
    "    b. Traverse through the list till ```current``` points to null.  \n",
    "    c. Display each node by making ```current``` to point to node next to it in each iteration.  "
   ]
  },
  {
   "cell_type": "markdown",
   "metadata": {},
   "source": [
    "## -----------------------------------------------------------------------------------------------------------------------------"
   ]
  },
  {
   "cell_type": "code",
   "execution_count": 1,
   "metadata": {},
   "outputs": [
    {
     "name": "stdout",
     "output_type": "stream",
     "text": [
      "Please enter the elements in the linked list: 1 2 3 2 2 4 1\n",
      "Original List: \n",
      "1\n",
      "2\n",
      "3\n",
      "2\n",
      "2\n",
      "4\n",
      "1\n",
      "List after removing duplicate nodes: \n",
      "1\n",
      "2\n",
      "3\n",
      "4\n"
     ]
    }
   ],
   "source": [
    "# Represent a node of the singly linked list\n",
    "class Node:\n",
    "    def __init__(self, data):\n",
    "        self.data = data\n",
    "        self.next = None\n",
    "\n",
    "\n",
    "class LinkedList:\n",
    "    # Represent the head and tail of the singly linked list\n",
    "    def __init__(self):\n",
    "        self.head = None\n",
    "        self.tail = None\n",
    "\n",
    "    # add_node() will add a new node to the list\n",
    "    def add_node(self, data):\n",
    "        # Create a new node\n",
    "        new_node = Node(data)\n",
    "\n",
    "        # Checks if the list is empty\n",
    "        if self.head == None:\n",
    "            # If list is empty, both head and tail will point to new node\n",
    "            self.head = new_node\n",
    "            self.tail = new_node\n",
    "        else:\n",
    "            # new_node will be added after tail such that tail's next will point to new_node\n",
    "            self.tail.next = new_node\n",
    "            # newNode will become new tail of the list\n",
    "            self.tail = new_node\n",
    "\n",
    "    # removeDuplicate() will remove duplicate nodes from the list\n",
    "    def remove_duplicate(self):\n",
    "        # Node current will point to head\n",
    "        current = self.head\n",
    "        index = None\n",
    "        temp = None\n",
    "\n",
    "        if self.head == None:\n",
    "            return\n",
    "        else:\n",
    "            while current != None:\n",
    "                # Node temp will point to previous node to index.\n",
    "                temp = current\n",
    "                # Index will point to node next to current\n",
    "                index = current.next\n",
    "\n",
    "                while index != None:\n",
    "                    # If current node's data is equal to index node's data\n",
    "                    if current.data == index.data:\n",
    "                        # Here, index node is pointing to the node which is duplicate of current node\n",
    "                        # Skips the duplicate node by pointing to next node\n",
    "                        temp.next = index.next\n",
    "                    else:\n",
    "                        # Temp will point to previous node of index.\n",
    "                        temp = index\n",
    "                    index = index.next\n",
    "                current = current.next\n",
    "\n",
    "    # display() will display all the nodes present in the list\n",
    "    def display(self):\n",
    "        # Node current will point to head\n",
    "        current = self.head\n",
    "        if self.head == None:\n",
    "            print(\"List is empty\")\n",
    "            return\n",
    "        while current != None:\n",
    "            # Increment next to print each node\n",
    "            print(current.data)\n",
    "            current = current.next\n",
    "\n",
    "\n",
    "def user_input():\n",
    "    slist = LinkedList()\n",
    "    # Add data to the list\n",
    "    data_list = input(\"Please enter the elements in the linked list: \").split()\n",
    "    for data in data_list:\n",
    "        slist.add_node(int(data))\n",
    "\n",
    "    # Display original list\n",
    "    print(\"Original List: \")\n",
    "    slist.display()\n",
    "\n",
    "    # Remove duplicate nodes\n",
    "    slist.remove_duplicate()\n",
    "\n",
    "    print(\"List after removing duplicate nodes: \")\n",
    "    slist.display()\n",
    "\n",
    "\n",
    "if __name__ == \"__main__\":\n",
    "    user_input()"
   ]
  }
 ],
 "metadata": {
  "kernelspec": {
   "display_name": "Python 3",
   "language": "python",
   "name": "python3"
  },
  "language_info": {
   "codemirror_mode": {
    "name": "ipython",
    "version": 3
   },
   "file_extension": ".py",
   "mimetype": "text/x-python",
   "name": "python",
   "nbconvert_exporter": "python",
   "pygments_lexer": "ipython3",
   "version": "3.7.3"
  },
  "pycharm": {
   "stem_cell": {
    "cell_type": "raw",
    "metadata": {
     "collapsed": false
    },
    "source": []
   }
  }
 },
 "nbformat": 4,
 "nbformat_minor": 1
}
