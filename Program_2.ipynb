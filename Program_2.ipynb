{
 "cells": [
  {
   "cell_type": "markdown",
   "metadata": {},
   "source": [
    "### ```Q2.```###\n",
    "### ```Devise a Python program to implement the Rock-Paper-Scissor game.```###"
   ]
  },
  {
   "cell_type": "markdown",
   "metadata": {},
   "source": [
    "## -----------------------------------------------------------------------------------------------------------------------------"
   ]
  },
  {
   "cell_type": "markdown",
   "metadata": {},
   "source": [
    "**rock-paper-scissors** (also known as scissors-rock-paper or other variants) is a hand game usually played between two people, in which each player simultaneously forms one of three shapes with an outstretched hand.   \n",
    "\n",
    "These shapes are \"rock\" (a closed fist), \"paper\" (a flat hand), and \"scissors\" (a fist with the index finger and middle finger extended, forming a V).   \n",
    "\n",
    "\"Scissors\" is identical to the two-fingered V sign (also indicating \"victory\" or \"peace\") except that it is pointed horizontally instead of being held upright in the air.   \n",
    "\n",
    "<img src=\"images\\3.png\" alt=\"rps\" align=\"middle\" height = 250, width = 450>\n",
    "\n",
    "A simultaneous, zero-sum game, it has only two possible outcomes: a draw, or a win for one player and a loss for the other.  \n",
    "\n",
    "A player who decides to play rock will beat another player who has chosen scissors (\"rock crushes scissors\" or sometimes \"blunts scissors\"), but will lose to one who has played paper (\"paper covers rock\").  \n",
    "\n",
    "A play of paper will lose to a play of scissors (\"scissors cuts paper\").   \n",
    "\n",
    "If both players choose the same shape, the game is tied and is usually immediately replayed to break the tie.  "
   ]
  },
  {
   "cell_type": "markdown",
   "metadata": {},
   "source": [
    "## -----------------------------------------------------------------------------------------------------------------------------"
   ]
  },
  {
   "cell_type": "markdown",
   "metadata": {},
   "source": [
    "In the program, the user gets the first chance to pick the option among rock, paper and scissor. After that the computer selects from the remaining two choices (randomly), then winner is decided as per the rules.  \n",
    "\n",
    "Winning Rules as follows :\n",
    "\n",
    "```rock vs paper-> paper wins```  \n",
    "```rock vs scissor-> rock wins```  \n",
    "```paper vs scissor-> scissor wins```  \n",
    "\n",
    "In this game, the _randint()_ inbuilt function is used for generating random integer value within the given range."
   ]
  },
  {
   "cell_type": "markdown",
   "metadata": {},
   "source": [
    "## -----------------------------------------------------------------------------------------------------------------------------"
   ]
  },
  {
   "cell_type": "code",
   "execution_count": 3,
   "metadata": {},
   "outputs": [
    {
     "name": "stdout",
     "output_type": "stream",
     "text": [
      "Winning Rules of the Rock paper scissor game as follows: \n",
      "rock vs paper -> paper wins \n",
      "rock vs scissor -> rock wins \n",
      "paper vs scissor -> scissor wins \n",
      "\n",
      "Enter choice \n",
      " 1. rock \n",
      " 2. paper \n",
      " 3. scissor \n",
      "\n",
      "User turn: 1\n",
      "User choice is: rock\n",
      "\n",
      "Now it is Computer's turn.......\n",
      "Computer choice is: paper\n",
      "rock V/s paper\n",
      "paper wins => <== So Computer wins ==>\n",
      "Do you want to play again? (Y/N)\n",
      "y\n",
      "Enter choice \n",
      " 1. rock \n",
      " 2. paper \n",
      " 3. scissor \n",
      "\n",
      "User turn: 2\n",
      "User choice is: paper\n",
      "\n",
      "Now it is Computer's turn.......\n",
      "Computer choice is: scissor\n",
      "paper V/s scissor\n",
      "scissor wins =><== So Computer wins ==>\n",
      "Do you want to play again? (Y/N)\n",
      "y\n",
      "Enter choice \n",
      " 1. rock \n",
      " 2. paper \n",
      " 3. scissor \n",
      "\n",
      "User turn: 3\n",
      "User choice is: scissor\n",
      "\n",
      "Now it is Computer's turn.......\n",
      "Computer choice is: rock\n",
      "scissor V/s rock\n",
      "rock wins =><== So Computer wins ==>\n",
      "Do you want to play again? (Y/N)\n",
      "n\n",
      "\n",
      "Thanks for playing\n"
     ]
    }
   ],
   "source": [
    "# import random module\n",
    "import random\n",
    "\n",
    "# Print multiline instruction perform string concatenation of string\n",
    "print(\n",
    "    \"Winning Rules of the Rock paper scissor game as follows: \\n\"\n",
    "    + \"rock vs paper -> paper wins \\n\"\n",
    "    + \"rock vs scissor -> rock wins \\n\"\n",
    "    + \"paper vs scissor -> scissor wins \\n\"\n",
    ")\n",
    "\n",
    "\n",
    "def main():\n",
    "    while True:\n",
    "        print(\"Enter choice \\n 1. rock \\n 2. paper \\n 3. scissor \\n\")\n",
    "        # take the input from user\n",
    "        choice = int(input(\"User turn: \"))\n",
    "\n",
    "        # OR is the short-circuit operator\n",
    "        # if any one of the condition is true\n",
    "        # then it return True value\n",
    "\n",
    "        # looping until user enter invalid input\n",
    "        while choice > 3 or choice < 1:\n",
    "            choice = int(input(\"Enter valid input: \"))\n",
    "\n",
    "        # initialize value of choice_name variable\n",
    "        # corresponding to the choice value\n",
    "        if choice == 1:\n",
    "            choice_name = \"rock\"\n",
    "        elif choice == 2:\n",
    "            choice_name = \"paper\"\n",
    "        else:\n",
    "            choice_name = \"scissor\"\n",
    "\n",
    "        # print user choice\n",
    "        print(f\"User choice is: {choice_name}\")\n",
    "        print(\"\\nNow it is Computer's turn.......\")\n",
    "\n",
    "        # Computer chooses randomly any number among 1 , 2 and 3. Using randint method of random module\n",
    "        comp_choice = random.randint(1, 3)\n",
    "\n",
    "        # looping until comp_choice value is equal to the choice value\n",
    "        while comp_choice == choice:\n",
    "            comp_choice = random.randint(1, 3)\n",
    "\n",
    "        # initialize value of comp_choice_name variable corresponding to the choice value\n",
    "        if comp_choice == 1:\n",
    "            comp_choice_name = \"rock\"\n",
    "        elif comp_choice == 2:\n",
    "            comp_choice_name = \"paper\"\n",
    "        else:\n",
    "            comp_choice_name = \"scissor\"\n",
    "\n",
    "        print(f\"Computer choice is: {comp_choice_name}\")\n",
    "\n",
    "        print(f\"{choice_name} V/s {comp_choice_name}\")\n",
    "\n",
    "        # condition for winning\n",
    "        if (choice == 1 and comp_choice == 2) or (choice == 2 and comp_choice == 1):\n",
    "            print(\"paper wins => \", end=\"\")\n",
    "            result = \"paper\"\n",
    "        elif (choice == 1 and comp_choice == 3) or (choice == 3 and comp_choice == 1):\n",
    "            print(\"rock wins =>\", end=\"\")\n",
    "            result = \"rock\"\n",
    "        else:\n",
    "            print(\"scissor wins =>\", end=\"\")\n",
    "            result = \"scissor\"\n",
    "\n",
    "        # Print as either user or computer wins\n",
    "        if result == choice_name:\n",
    "            print(\"<== So User wins ==>\")\n",
    "        else:\n",
    "            print(\"<== So Computer wins ==>\")\n",
    "\n",
    "        print(\"Do you want to play again? (Y/N)\")\n",
    "        ans = input()\n",
    "\n",
    "        # if user input n or N then condition is True\n",
    "        if ans == \"n\" or ans == \"N\":\n",
    "            break\n",
    "\n",
    "    # After coming out of the while loop we print thanks for playing\n",
    "    print(\"\\nThanks for playing\")\n",
    "\n",
    "\n",
    "if __name__ == \"__main__\":\n",
    "    main()"
   ]
  }
 ],
 "metadata": {
  "kernelspec": {
   "display_name": "Python 3",
   "language": "python",
   "name": "python3"
  },
  "language_info": {
   "codemirror_mode": {
    "name": "ipython",
    "version": 3
   },
   "file_extension": ".py",
   "mimetype": "text/x-python",
   "name": "python",
   "nbconvert_exporter": "python",
   "pygments_lexer": "ipython3",
   "version": "3.7.3"
  },
  "pycharm": {
   "stem_cell": {
    "cell_type": "raw",
    "metadata": {
     "collapsed": false
    },
    "source": []
   }
  }
 },
 "nbformat": 4,
 "nbformat_minor": 1
}
