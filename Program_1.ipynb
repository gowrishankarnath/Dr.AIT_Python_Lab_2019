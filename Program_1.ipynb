{
 "cells": [
  {
   "cell_type": "markdown",
   "metadata": {
    "collapsed": true,
    "pycharm": {
     "name": "#%% md\n"
    }
   },
   "source": [
    "### Write a Python program to print all Disarium numbers between 1 and 100.\n"
   ]
  },
  {
   "cell_type": "code",
   "execution_count": 2,
   "outputs": [
    {
     "name": "stdout",
     "text": [
      "Disarium numbers between 1 and 100 are\n1\n2\n3\n4\n5\n6\n7\n8\n9\n89\n"
     ],
     "output_type": "stream"
    }
   ],
   "source": [
    "\n",
    "def calculate_length(n):\n",
    "    length = 0\n",
    "    while n != 0:\n",
    "        length = length + 1\n",
    "        n = n // 10\n",
    "    return length\n",
    "\n",
    "\n",
    "# sum_of_digits() will calculates the sum of digits powered with their respective position\n",
    "def sum_of_digits(num):\n",
    "    remainder = result = 0\n",
    "    length = calculate_length(num)\n",
    "    while num > 0:\n",
    "        remainder = num % 10\n",
    "        result = result + (remainder ** length)\n",
    "        num = num // 10\n",
    "        length = length - 1\n",
    "    return result\n",
    "\n",
    "\n",
    "def print_disarium():\n",
    "    result = 0\n",
    "    # Displays all disarium numbers between 1 and 100\n",
    "    print(\"Disarium numbers between 1 and 100 are\")\n",
    "    for i in range(1, 101):\n",
    "        result = sum_of_digits(i)\n",
    "        if result == i:\n",
    "            print(i)\n",
    "\n",
    "\n",
    "if __name__ == \"__main__\":\n",
    "    print_disarium()\n",
    "\n",
    "\n",
    "# Write a Python program to encrypt the text using Caesar Cipher technique.\n",
    "# Display the encrypted text. Prompt the user for input and shift pattern.\n",
    "\n",
    "\n",
    "def encrypt_text(input_text, shift_pattern):\n",
    "    result = \"\"\n",
    "    # transverse the plain text\n",
    "    for i in range(len(input_text)):\n",
    "        char = input_text[i]\n",
    "        # Encrypt uppercase characters in plain text\n",
    "\n",
    "        if char.isupper():\n",
    "            result += chr((ord(char) + shift_pattern - 65) % 26 + 65)\n",
    "            # Encrypt lowercase characters in plain text\n",
    "        else:\n",
    "            result += chr((ord(char) + shift_pattern - 97) % 26 + 97)\n",
    "\n",
    "    return result\n",
    "\n",
    "\n",
    "def user_input():\n",
    "    input_text = input(\"Enter a text: \")\n",
    "    shift_pattern = int(input(\"Enter Shift Pattern for encryption\"))\n",
    "    encrypted_text = encrypt_text(input_text, shift_pattern)\n",
    "    print(f\"The encrypted text is {encrypted_text}\")\n",
    "\n",
    "\n",
    "if __name__ == '__main__':\n",
    "    user_input()\n",
    "\n"
   ],
   "metadata": {
    "pycharm": {
     "metadata": false,
     "name": "#%%\n",
     "is_executing": false
    }
   }
  }
 ],
 "metadata": {
  "language_info": {
   "codemirror_mode": {
    "name": "ipython",
    "version": 2
   },
   "file_extension": ".py",
   "mimetype": "text/x-python",
   "name": "python",
   "nbconvert_exporter": "python",
   "pygments_lexer": "ipython2",
   "version": "2.7.6"
  },
  "kernelspec": {
   "name": "python3",
   "language": "python",
   "display_name": "Python 3"
  },
  "pycharm": {
   "stem_cell": {
    "cell_type": "raw",
    "source": [],
    "metadata": {
     "collapsed": false
    }
   }
  }
 },
 "nbformat": 4,
 "nbformat_minor": 0
}