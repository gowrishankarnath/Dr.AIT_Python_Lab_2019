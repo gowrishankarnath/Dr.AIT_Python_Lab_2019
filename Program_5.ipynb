{
 "cells": [
  {
   "cell_type": "code",
   "execution_count": null,
   "metadata": {
    "collapsed": true
   },
   "outputs": [],
   "source": [
    "\n",
    "# Write a Python program to construct a linked list. Prompt the user for input.\n",
    "# Remove any duplicate numbers from the linked list.\n",
    "\n",
    "\n",
    "class Node:\n",
    "    def __init__(self, data):\n",
    "        self.data = data\n",
    "        self.next = None\n",
    "\n",
    "\n",
    "class LinkedList:\n",
    "    def __init__(self):\n",
    "        self.head = None\n",
    "        self.last_node = None\n",
    "\n",
    "    def append(self, data):\n",
    "        if self.last_node is None:\n",
    "            self.head = Node(data)\n",
    "            self.last_node = self.head\n",
    "        else:\n",
    "            self.last_node.next = Node(data)\n",
    "            self.last_node = self.last_node.next\n",
    "\n",
    "    def get_prev_node(self, ref_node):\n",
    "        current = self.head\n",
    "        while current and current.next != ref_node:\n",
    "            current = current.next\n",
    "        return current\n",
    "\n",
    "    def remove(self, node):\n",
    "        prev_node = self.get_prev_node(node)\n",
    "        if prev_node is None:\n",
    "            self.head = self.head.next\n",
    "        else:\n",
    "            prev_node.next = node.next\n",
    "\n",
    "    def display(self):\n",
    "        current = self.head\n",
    "        while current:\n",
    "            print(current.data, end=' ')\n",
    "            current = current.next\n",
    "\n",
    "\n",
    "def remove_duplicates(llist):\n",
    "    current1 = llist.head\n",
    "    while current1:\n",
    "        data = current1.data\n",
    "        current2 = current1.next\n",
    "        while current2:\n",
    "            if current2.data == data:\n",
    "                llist.remove(current2)\n",
    "            current2 = current2.next\n",
    "        current1 = current1.next\n",
    "\n",
    "\n",
    "a_llist = LinkedList()\n",
    "\n",
    "data_list = input('Please enter the elements in the linked list: ').split()\n",
    "for data in data_list:\n",
    "    a_llist.append(int(data))\n",
    "\n",
    "remove_duplicates(a_llist)\n",
    "\n",
    "print('The list with duplicates removed: ')\n",
    "a_llist.display()\n"
   ]
  }
 ],
 "metadata": {
  "language_info": {
   "codemirror_mode": {
    "name": "ipython",
    "version": 2
   },
   "file_extension": ".py",
   "mimetype": "text/x-python",
   "name": "python",
   "nbconvert_exporter": "python",
   "pygments_lexer": "ipython2",
   "version": "2.7.6"
  },
  "kernelspec": {
   "name": "python3",
   "language": "python",
   "display_name": "Python 3"
  },
  "pycharm": {
   "stem_cell": {
    "cell_type": "raw",
    "source": [],
    "metadata": {
     "collapsed": false
    }
   }
  }
 },
 "nbformat": 4,
 "nbformat_minor": 0
}