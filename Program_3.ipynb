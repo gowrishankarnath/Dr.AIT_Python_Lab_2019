{
 "cells": [
  {
   "cell_type": "code",
   "execution_count": null,
   "outputs": [],
   "source": [
    "# Design a Python program to perform Jump Search for a given key and report success or failure.\n",
    "# Prompt the user to enter the key and a list of numbers.\n",
    "\n",
    "import math\n",
    "\n",
    "\n",
    "def jump_search(list_of_numbers, key):\n",
    "    list_length = len(list_of_numbers)\n",
    "    number_of_jumps = int(math.sqrt(list_length))\n",
    "    left, right = 0, 0\n",
    "    while left < list_length and list_of_numbers[left] <= key:\n",
    "        right = min(list_length - 1, left + number_of_jumps)\n",
    "        if list_of_numbers[left] <= key <= list_of_numbers[right]:\n",
    "            break\n",
    "        left += number_of_jumps\n",
    "\n",
    "    if left >= list_length or list_of_numbers[left] > key:\n",
    "        return -1\n",
    "    right = min(list_length - 1, right)\n",
    "    index = left\n",
    "    while index <= right and list_of_numbers[index] <= key:\n",
    "        if list_of_numbers[index] == key:\n",
    "            return index\n",
    "        index += 1\n",
    "    return -1\n",
    "\n",
    "\n",
    "def user_input():\n",
    "    input_list = input(\"Enter a list of numbers separated by a space in ascending order\")\n",
    "    list_of_numbers = input_list.split()\n",
    "    key = input(\"Enter the Key number to search\")\n",
    "\n",
    "    index = jump_search(list_of_numbers, key)\n",
    "    if index == -1:\n",
    "        print(\"Entered key is not present\")\n",
    "    else:\n",
    "        print(f\"Key number {key} is found in {index + 1} position\")\n",
    "\n",
    "\n",
    "if __name__ == \"__main__\":\n",
    "    user_input()\n",
    "\n"
   ],
   "metadata": {
    "collapsed": false,
    "pycharm": {
     "name": "#%%\n"
    }
   }
  }
 ],
 "metadata": {
  "language_info": {
   "codemirror_mode": {
    "name": "ipython",
    "version": 2
   },
   "file_extension": ".py",
   "mimetype": "text/x-python",
   "name": "python",
   "nbconvert_exporter": "python",
   "pygments_lexer": "ipython2",
   "version": "2.7.6"
  },
  "kernelspec": {
   "name": "python3",
   "language": "python",
   "display_name": "Python 3"
  },
  "pycharm": {
   "stem_cell": {
    "cell_type": "raw",
    "source": [],
    "metadata": {
     "collapsed": false
    }
   }
  }
 },
 "nbformat": 4,
 "nbformat_minor": 0
}